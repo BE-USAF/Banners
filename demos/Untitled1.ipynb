{
 "cells": [
  {
   "cell_type": "code",
   "execution_count": 6,
   "id": "4036896f-7452-4b7e-bcec-0609c5ac2553",
   "metadata": {},
   "outputs": [],
   "source": [
    "import select\n",
    "import psycopg2\n",
    "import psycopg2.extensions\n",
    "\n",
    "conn = psycopg2.connect(dbname=\"postgres\", user=\"postgres\", password=\"postgres\", host=\"jhub-postgresql\")\n",
    "conn.set_isolation_level(psycopg2.extensions.ISOLATION_LEVEL_AUTOCOMMIT)\n",
    "\n",
    "curs = conn.cursor()\n",
    "curs.execute(\"NOTIFY test, 'hello';\")"
   ]
  },
  {
   "cell_type": "code",
   "execution_count": null,
   "id": "bca47aa2-37da-49a9-87c4-07d502cd05da",
   "metadata": {},
   "outputs": [],
   "source": []
  }
 ],
 "metadata": {
  "kernelspec": {
   "display_name": "Python 3 (ipykernel)",
   "language": "python",
   "name": "python3"
  },
  "language_info": {
   "codemirror_mode": {
    "name": "ipython",
    "version": 3
   },
   "file_extension": ".py",
   "mimetype": "text/x-python",
   "name": "python",
   "nbconvert_exporter": "python",
   "pygments_lexer": "ipython3",
   "version": "3.11.7"
  }
 },
 "nbformat": 4,
 "nbformat_minor": 5
}
