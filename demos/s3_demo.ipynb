{
 "cells": [
  {
   "cell_type": "code",
   "execution_count": 1,
   "id": "82fe179c-a5b5-46ea-8177-555c3819e025",
   "metadata": {},
   "outputs": [],
   "source": [
    "import banners"
   ]
  },
  {
   "cell_type": "code",
   "execution_count": 2,
   "id": "a5194254-7b00-485a-9944-b469ed6c4230",
   "metadata": {},
   "outputs": [],
   "source": [
    "banner = banners.S3Banner()"
   ]
  },
  {
   "cell_type": "code",
   "execution_count": 3,
   "id": "1f1ebee0-7eb4-4d3b-8af6-6a9659ccc2a2",
   "metadata": {},
   "outputs": [],
   "source": [
    "banner.wave(\"test\")"
   ]
  },
  {
   "cell_type": "code",
   "execution_count": 4,
   "id": "7aa140a8-ff90-457c-b078-8fffaa4e2ed2",
   "metadata": {},
   "outputs": [],
   "source": [
    "banner.retire(\"test\",3)"
   ]
  },
  {
   "cell_type": "code",
   "execution_count": 5,
   "id": "890eab80-ba94-4579-b4b4-5fdf1835fef4",
   "metadata": {},
   "outputs": [
    {
     "data": {
      "text/plain": [
       "[{'topic': 'test', 'banner_timestamp': '20240902-220804412029'}]"
      ]
     },
     "execution_count": 5,
     "metadata": {},
     "output_type": "execute_result"
    }
   ],
   "source": [
    "banner.recall_events(\"test\", 1)"
   ]
  },
  {
   "cell_type": "code",
   "execution_count": 3,
   "id": "150f7a19-65b7-4058-9219-a6ff66b03b6e",
   "metadata": {},
   "outputs": [
    {
     "name": "stdout",
     "output_type": "stream",
     "text": [
      "banners/test/20240902-220100698404.json\n",
      "{'topic': 'test', 'banner_timestamp': '20240902-220100698404'}\n",
      "banners/test/20240902-220133263072.json\n",
      "{'topic': 'test', 'banner_timestamp': '20240902-220133263072'}\n",
      "banners/test/20240902-220804412029.json\n",
      "{'topic': 'test', 'banner_timestamp': '20240902-220804412029'}\n",
      "banners/test/20240902-221205355267.json\n",
      "{'topic': 'test', 'banner_timestamp': '20240902-221205355267'}\n"
     ]
    }
   ],
   "source": [
    "banner.watch(\"test\", lambda x: print(x))"
   ]
  }
 ],
 "metadata": {
  "kernelspec": {
   "display_name": "Python 3 (ipykernel)",
   "language": "python",
   "name": "python3"
  },
  "language_info": {
   "codemirror_mode": {
    "name": "ipython",
    "version": 3
   },
   "file_extension": ".py",
   "mimetype": "text/x-python",
   "name": "python",
   "nbconvert_exporter": "python",
   "pygments_lexer": "ipython3",
   "version": "3.11.7"
  }
 },
 "nbformat": 4,
 "nbformat_minor": 5
}
