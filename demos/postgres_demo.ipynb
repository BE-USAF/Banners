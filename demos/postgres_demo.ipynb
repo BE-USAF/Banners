{
 "cells": [
  {
   "cell_type": "code",
   "execution_count": 1,
   "id": "12898f73-dc73-4a81-a76b-d7556de7cada",
   "metadata": {},
   "outputs": [],
   "source": [
    "from banners import PostgresBanner\n",
    "wave_banner = PostgresBanner()\n",
    "watch_banner = PostgresBanner()"
   ]
  },
  {
   "cell_type": "code",
   "execution_count": 2,
   "id": "095abbc8-8200-4e21-97ec-399dc0babbcd",
   "metadata": {
    "scrolled": true
   },
   "outputs": [
    {
     "name": "stdout",
     "output_type": "stream",
     "text": [
      "{'data': 'value', 'topic': 'test', 'banner_timestamp': '20240905-215520137884'}\n",
      "{'data': 'value', 'topic': 'test', 'banner_timestamp': '20240905-215522731188'}\n"
     ]
    }
   ],
   "source": [
    "watch_banner.watch(\"test\", lambda x: print(x))"
   ]
  },
  {
   "cell_type": "code",
   "execution_count": 4,
   "id": "ad05ac15-a462-49bb-9af6-b22fac5c689a",
   "metadata": {},
   "outputs": [],
   "source": [
    "wave_banner.wave(\"test\", {\"data\": \"value\"})"
   ]
  },
  {
   "cell_type": "code",
   "execution_count": null,
   "id": "6fcd8fcc-34b9-43a0-a971-c7cdde36e8a9",
   "metadata": {},
   "outputs": [],
   "source": []
  }
 ],
 "metadata": {
  "kernelspec": {
   "display_name": "Python 3 (ipykernel)",
   "language": "python",
   "name": "python3"
  },
  "language_info": {
   "codemirror_mode": {
    "name": "ipython",
    "version": 3
   },
   "file_extension": ".py",
   "mimetype": "text/x-python",
   "name": "python",
   "nbconvert_exporter": "python",
   "pygments_lexer": "ipython3",
   "version": "3.11.7"
  }
 },
 "nbformat": 4,
 "nbformat_minor": 5
}
