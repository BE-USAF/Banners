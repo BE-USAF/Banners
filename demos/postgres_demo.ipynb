{
 "cells": [
  {
   "cell_type": "code",
   "execution_count": 1,
   "id": "12898f73-dc73-4a81-a76b-d7556de7cada",
   "metadata": {},
   "outputs": [],
   "source": [
    "from banners import PostgresBanner\n",
    "wave_banner = PostgresBanner()\n",
    "watch_banner = PostgresBanner()"
   ]
  },
  {
   "cell_type": "code",
   "execution_count": 2,
   "id": "095abbc8-8200-4e21-97ec-399dc0babbcd",
   "metadata": {
    "scrolled": true
   },
   "outputs": [
    {
     "name": "stdout",
     "output_type": "stream",
     "text": [
      "HELLO\n",
      "{'topic': 'test', 'banner_timestamp': '20240907-214558005228', 'data': 'value'}\n",
      "HELLO\n",
      "{'topic': 'test', 'banner_timestamp': '20240907-214606494690', 'data': 'value'}\n",
      "HELLO\n",
      "{'topic': 'test', 'banner_timestamp': '20240907-214609243971', 'data': 'value'}\n",
      "HELLO\n",
      "{'topic': 'test', 'banner_timestamp': '20240907-214610068285', 'data': 'value'}\n",
      "HELLO\n",
      "{'topic': 'test', 'banner_timestamp': '20240907-214610557061', 'data': 'value'}\n",
      "HELLO\n",
      "{'topic': 'test', 'banner_timestamp': '20240907-214610917054', 'data': 'value'}\n",
      "HELLO\n",
      "{'topic': 'test', 'banner_timestamp': '20240907-214611252250', 'data': 'value'}\n",
      "HELLO\n",
      "{'topic': 'test', 'banner_timestamp': '20240907-214611598837', 'data': 'value'}\n",
      "HELLO\n",
      "{'topic': 'test', 'banner_timestamp': '20240907-214611878987', 'data': 'value'}\n",
      "HELLO\n",
      "{'topic': 'test', 'banner_timestamp': '20240907-214612151695', 'data': 'value'}\n",
      "HELLO\n",
      "{'topic': 'test', 'banner_timestamp': '20240907-214612370531', 'data': 'value'}\n"
     ]
    },
    {
     "name": "stderr",
     "output_type": "stream",
     "text": [
      "Exception in thread banners_watch_test:\n",
      "Traceback (most recent call last):\n",
      "  File \"/opt/conda/envs/singleuser/lib/python3.11/threading.py\", line 1045, in _bootstrap_inner\n",
      "    self.run()\n",
      "  File \"/opt/conda/envs/singleuser/lib/python3.11/site-packages/ipykernel/ipkernel.py\", line 761, in run_closure\n",
      "    _threading_Thread_run(self)\n",
      "  File \"/opt/conda/envs/singleuser/lib/python3.11/threading.py\", line 982, in run\n",
      "    self._target(*self._args, **self._kwargs)\n",
      "  File \"/home/jovyan/work/banners/src/banners/postgres_banner.py\", line 154, in _watch_thread\n",
      "    callback(self._get_event_by_id(notify.payload))\n",
      "             ^^^^^^^^^^^^^^^^^^^^^^^^^^^^^^^^^^^^^\n",
      "  File \"/home/jovyan/work/banners/src/banners/postgres_banner.py\", line 81, in _get_event_by_id\n",
      "    res = session.query(self.SQLBanner).where(self.SQLBanner.id == id)[0]\n",
      "          ~~~~~~~~~~~~~~~~~~~~~~~~~~~~~~~~~~~~~~~~~~~~~~~~~~~~~~~~~~~~^^^\n",
      "  File \"/opt/conda/envs/singleuser/lib/python3.11/site-packages/sqlalchemy/orm/query.py\", line 2531, in __getitem__\n",
      "    return orm_util._getitem(\n",
      "           ^^^^^^^^^^^^^^^^^^\n",
      "  File \"/opt/conda/envs/singleuser/lib/python3.11/site-packages/sqlalchemy/orm/util.py\", line 2193, in _getitem\n",
      "    return list(iterable_query[item : item + 1])[0]\n",
      "           ~~~~~~~~~~~~~~~~~~~~~~~~~~~~~~~~~~~~~^^^\n",
      "IndexError: list index out of range\n"
     ]
    },
    {
     "name": "stdout",
     "output_type": "stream",
     "text": [
      "HELLO\n",
      "{'topic': 'test', 'banner_timestamp': '20240907-214612586619', 'data': 'value'}\n"
     ]
    }
   ],
   "source": [
    "def func(x):\n",
    "    print(\"HELLO\")\n",
    "    print(x)\n",
    "watch_banner.watch(\"test\", func)"
   ]
  },
  {
   "cell_type": "code",
   "execution_count": 14,
   "id": "ad05ac15-a462-49bb-9af6-b22fac5c689a",
   "metadata": {},
   "outputs": [],
   "source": [
    "watch_banner.wave(\"test\", {\"data\": \"value\"})"
   ]
  },
  {
   "cell_type": "code",
   "execution_count": 2,
   "id": "b9f351f3-5faa-4f25-8a52-3e286a6d4f5a",
   "metadata": {},
   "outputs": [],
   "source": [
    "from typing import List\n",
    "from typing import Optional\n",
    "from sqlalchemy import ForeignKey\n",
    "from sqlalchemy import String\n",
    "from sqlalchemy.orm import DeclarativeBase\n",
    "from sqlalchemy.orm import Mapped\n",
    "from sqlalchemy.orm import mapped_column\n",
    "from sqlalchemy.orm import relationship\n",
    "\n",
    "class Base(DeclarativeBase):\n",
    "    pass\n",
    "\n",
    "class SQLBanner(Base):\n",
    "    __tablename__ = \"sql_banner2\"\n",
    "\n",
    "    id: Mapped[int] = mapped_column(primary_key=True)\n",
    "    topic: Mapped[str]\n",
    "    timestamp: Mapped[str]\n",
    "    body: Mapped[Optional[str]]\n",
    "\n",
    "    def __repr__(self) -> str:\n",
    "        return f\"User(topic={self.topic!r}, timestamp={self.timestamp!r}, body={self.body!r})\""
   ]
  },
  {
   "cell_type": "code",
   "execution_count": 16,
   "id": "f2471731-c764-46d4-9664-cd2f16b94d01",
   "metadata": {},
   "outputs": [],
   "source": [
    "banner = PostgresBanner()\n",
    "# Base.metadata.create_all(banner._engine)\n",
    "# banner.max_events_in_topic = 5"
   ]
  },
  {
   "cell_type": "code",
   "execution_count": 8,
   "id": "0cac0599-dee0-4a09-a540-a654ad9829f8",
   "metadata": {},
   "outputs": [
    {
     "name": "stdout",
     "output_type": "stream",
     "text": [
      "schema: information_schema\n",
      "sql_packages\n",
      "sql_features\n",
      "sql_implementation_info\n",
      "sql_parts\n",
      "sql_languages\n",
      "sql_sizing\n",
      "sql_sizing_profiles\n",
      "schema: public\n",
      "sqleventstore\n",
      "sqlqueue\n",
      "sql_banner\n"
     ]
    }
   ],
   "source": [
    "from sqlalchemy import inspect\n",
    "inspector = inspect(banner._engine)\n",
    "schemas = inspector.get_schema_names()\n",
    "\n",
    "for schema in schemas:\n",
    "    print(\"schema: %s\" % schema)\n",
    "    for table_name in inspector.get_table_names(schema=schema):\n",
    "        print(table_name)\n",
    "        # for column in inspector.get_columns(table_name, schema=schema):\n",
    "            # print(\"Column: %s\" % column)"
   ]
  },
  {
   "cell_type": "code",
   "execution_count": 6,
   "id": "5557719f-2fe2-4d11-a94a-2a8cfcc54afe",
   "metadata": {},
   "outputs": [],
   "source": [
    "banner = PostgresBanner(table_name=\"sql_banner\")\n",
    "banner.SQLBanner.__table__.drop(banner._engine)"
   ]
  },
  {
   "cell_type": "code",
   "execution_count": 28,
   "id": "82bc54d0-9baf-4886-bfc0-9b808865a8d5",
   "metadata": {},
   "outputs": [],
   "source": [
    "banner.wave(\"test\", {\"data\": 6})"
   ]
  },
  {
   "cell_type": "code",
   "execution_count": 18,
   "id": "c31f5542-d2e0-47f9-8087-1c2b533fafca",
   "metadata": {},
   "outputs": [
    {
     "name": "stdout",
     "output_type": "stream",
     "text": [
      "User(topic='test', timestamp='20240907-201527614095', body='{\"data\": 6}')\n",
      "User(topic='test', timestamp='20240907-201531658254', body='{\"data\": 6}')\n"
     ]
    }
   ],
   "source": [
    "from sqlalchemy import select\n",
    "from sqlalchemy.orm import Session\n",
    "\n",
    "session = Session(banner._engine)\n",
    "\n",
    "stmt = select(SQLBanner).where(SQLBanner.topic == \"test\")\n",
    "\n",
    "for user in session.scalars(stmt):\n",
    "    print(user)"
   ]
  },
  {
   "cell_type": "code",
   "execution_count": 23,
   "id": "e06ad401-5f1d-4879-b859-321b8bac0fd8",
   "metadata": {},
   "outputs": [
    {
     "data": {
      "text/plain": [
       "User(topic='test', timestamp='20240907-130944997853', body='{\"data\": 6}')"
      ]
     },
     "execution_count": 23,
     "metadata": {},
     "output_type": "execute_result"
    }
   ],
   "source": [
    "session.query(SQLBanner) \\\n",
    "               .where(SQLBanner.id == 22)[0]"
   ]
  },
  {
   "cell_type": "code",
   "execution_count": 19,
   "id": "b775a054-23a3-4d86-959d-ba94296b0baa",
   "metadata": {},
   "outputs": [
    {
     "data": {
      "text/plain": [
       "[{'topic': 'test',\n",
       "  'banner_timestamp': '20240907-214612370531',\n",
       "  'data': 'value'},\n",
       " {'topic': 'test',\n",
       "  'banner_timestamp': '20240907-214612586619',\n",
       "  'data': 'value'}]"
      ]
     },
     "execution_count": 19,
     "metadata": {},
     "output_type": "execute_result"
    }
   ],
   "source": [
    "banner.recall_events(\"test\", 10)\n",
    "# banner.cleanup(\"test\", 2)"
   ]
  }
 ],
 "metadata": {
  "kernelspec": {
   "display_name": "Python 3 (ipykernel)",
   "language": "python",
   "name": "python3"
  },
  "language_info": {
   "codemirror_mode": {
    "name": "ipython",
    "version": 3
   },
   "file_extension": ".py",
   "mimetype": "text/x-python",
   "name": "python",
   "nbconvert_exporter": "python",
   "pygments_lexer": "ipython3",
   "version": "3.11.7"
  }
 },
 "nbformat": 4,
 "nbformat_minor": 5
}
