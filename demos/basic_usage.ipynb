{
 "cells": [
  {
   "cell_type": "markdown",
   "id": "8cd959f7-2452-4ffc-84cd-f7e656fde82e",
   "metadata": {},
   "source": [
    "# Welcome to Banners\n",
    "\n",
    "This notebook shows the basic workflow and explaination of core functions in Banners. It walks through the following:\n",
    "- Create a LocalBanner object\n",
    "- How to watch for a banner\n",
    "- Wave a banner\n",
    "- Recall recent banners\n",
    "- Retire existing banners"
   ]
  },
  {
   "cell_type": "markdown",
   "id": "91eb1a52-a6ed-4174-bc56-778ac2a4d4d7",
   "metadata": {},
   "source": [
    "## Creating a LocalBanner Object\n",
    "\n",
    "The LocalBanner object implements a Pub/Sub pattern using json files saved to a local directory. The main design intent is to have an implmentation of BaseBanner that requires no dependencies.\n",
    "\n",
    "You can create a LocalBanner with no arguments, but there are 3 optional parameters:\n",
    "- root_path: A string wherein to store events as JSON files. This defaults to /tmp/banners.\n",
    "- watch_rate: How long to sleep before scanning the directory for new events\n",
    "- max_events_in_topic: How many events to keep in each topic folder before cleaning up old events."
   ]
  },
  {
   "cell_type": "code",
   "execution_count": null,
   "id": "36c303ef-99ab-46a6-aa4a-5a5d8049fb99",
   "metadata": {},
   "outputs": [],
   "source": [
    "from banners import LocalBanner\n",
    "import tempfile\n",
    "\n",
    "temp_dir = tempfile.TemporaryDirectory()\n",
    "banner = LocalBanner(watch_rate=1, root_path=temp_dir.name)\n",
    "\n"
   ]
  },
  {
   "cell_type": "markdown",
   "id": "a26f06e0-6489-46f6-a4ea-b78f2eb28a7b",
   "metadata": {},
   "source": [
    "## Waving a Banner\n",
    "\n",
    "\"Waving\" is synonymous with \"publish\", and indicates sending a new banner for downstream consumption. We can see this in action by showing the root_path directory contents before and after the wave function is called.\n",
    "\n",
    "Also note, the library supports `banner.publish` for users who don't want to follow the fun theme.\n",
    "\n",
    "The file naming convention follows the following format, which is year, month, day, milliseconds into the day. This format ensures new files are easy to sort and discover. \n",
    "```\n",
    "datetime.now().strftime(\"%Y%m%d-%H%M%S%f\")\n",
    "```"
   ]
  },
  {
   "cell_type": "code",
   "execution_count": null,
   "id": "28e63c89-16c1-45bb-a908-c31d7c4f86a4",
   "metadata": {},
   "outputs": [],
   "source": [
    "import os\n",
    "\n",
    "print(\"Initial dir contents: \", os.listdir(banner.root_path))\n",
    "banner.wave(\"test\", {\"test\": \"value\", \"func\": \"wave\"})\n",
    "print(\"Contents after wave: \", os.listdir(banner.root_path))\n",
    "print(\"Test topic after wave: \", os.listdir(os.path.join(banner.root_path,\"test\")))\n",
    "\n",
    "## Repeat with publish function\n",
    "banner.publish(\"test\", {\"test\": \"value\", \"func\": \"publish\"})\n",
    "print(\"Test topic after publish: \", os.listdir(os.path.join(banner.root_path,\"test\")))"
   ]
  },
  {
   "cell_type": "markdown",
   "id": "a1a6718b-f442-4838-bc6b-9a75086ed707",
   "metadata": {},
   "source": [
    "## Recalling Events\n",
    "\n",
    "Each banner can \"recall\" events that have been previously waved with the `recall_events` function. This function loads the stored json files and returns a list of dictionaries in order of oldest to newest. By default, the function returns all of the stored events, but a positive integer can be supplied to limit to returning only the most recent N events."
   ]
  },
  {
   "cell_type": "code",
   "execution_count": null,
   "id": "80b746c0-0ae2-4255-b6d2-69e6ec8e2a90",
   "metadata": {},
   "outputs": [],
   "source": [
    "print(\"'Test' events\")\n",
    "print(banner.recall_events(\"test\"))\n",
    "\n",
    "print(\"\\nOnly return most recent event\")\n",
    "print(banner.recall_events(\"test\", num_retrieve=1))\n",
    "\n",
    "\n",
    "print(\"\\nNonexistant topic recall\")\n",
    "print(banner.recall_events(\"bad_topic\"))"
   ]
  },
  {
   "cell_type": "markdown",
   "id": "48a6c8bc-d510-4676-a3ae-4a2c81f3ff57",
   "metadata": {},
   "source": [
    "## Watching for Banners\n",
    "\n",
    "\"Watching\" is analagous to subscribing to a topic. In this call, the user requests a topic and provides a callback function that should be run when a new banner is detected.\n",
    "\n",
    "Under the hood, Banners creates a new thread to watch for each requested topic. There can only be one thread per topic in a given process.\n",
    "\n",
    "The callback function should be a lightweight function that is used to signal downstream action in separate processes.\n",
    "\n",
    "Notice, the callback function will be called twice before any new banners are waved. This is because banners that were waved previously will trigger the callback function. Users can ignore banners waved before a given time using an optional argument."
   ]
  },
  {
   "cell_type": "code",
   "execution_count": null,
   "id": "787a2fd4-05e2-40a7-9b99-bf05ecc12aa6",
   "metadata": {},
   "outputs": [],
   "source": [
    "import threading\n",
    "\n",
    "def callback_func(d: dict):\n",
    "    print(\"IN CALLBACK\", d)\n",
    "\n",
    "initial_threads = [t.name for t in threading.enumerate()]\n",
    "\n",
    "banner.watch(\"test\", callback_func)\n",
    "\n",
    "after_threads = [t.name for t in threading.enumerate()]\n",
    "print(\"Threads after 'watch': \", set(after_threads) - set(initial_threads))"
   ]
  },
  {
   "cell_type": "markdown",
   "id": "907b9154-0984-47ca-85c5-f35f88ba1d61",
   "metadata": {},
   "source": [
    "## Waving a New Banner\n",
    "\n",
    "Wave a new banner to watch the callback get called"
   ]
  },
  {
   "cell_type": "code",
   "execution_count": null,
   "id": "2602176f-06cf-43b3-92f7-ad65e03ed75f",
   "metadata": {},
   "outputs": [],
   "source": [
    "banner.wave(\"test\", {\"new banner\": \"new value\"})"
   ]
  },
  {
   "cell_type": "markdown",
   "id": "a20efc5b-c298-41a4-bfdf-c433639753df",
   "metadata": {},
   "source": [
    "## Ignore Topics\n",
    "\n",
    "A user may wish to ignore, or unsubscribe to a topic. This can accomplished using the `ignore` function"
   ]
  },
  {
   "cell_type": "code",
   "execution_count": null,
   "id": "72e527f4-88a3-426a-a3a0-1218c6c152d6",
   "metadata": {},
   "outputs": [],
   "source": [
    "banner.ignore(\"test\")\n",
    "\n",
    "after_ignore = [t.name for t in threading.enumerate()]\n",
    "print(\"Threads after 'ignore': \", set(after_ignore) - set(initial_threads))"
   ]
  },
  {
   "cell_type": "markdown",
   "id": "7323bbff-63be-4610-af5a-b8e04469e9e9",
   "metadata": {},
   "source": [
    "## Cleaning up old events\n",
    "\n",
    "The default max number of banners in a topic is relatively small (50), but a user may want to clean up old banners that may be stale.\n",
    "\n",
    "This is a function that may use some help. Maybe a user wants to remove only a certain existing banner, that is not yet supported."
   ]
  },
  {
   "cell_type": "code",
   "execution_count": null,
   "id": "aed77efc-c30b-423e-b54e-f33a284a0c38",
   "metadata": {},
   "outputs": [],
   "source": [
    "banner.retire(\"test\", 0)"
   ]
  },
  {
   "cell_type": "markdown",
   "id": "699ff84c-0228-463b-8935-6246b5944723",
   "metadata": {},
   "source": [
    "## Conclude Demo\n",
    "\n",
    "Clean up the temporary directory where the banners are stored"
   ]
  },
  {
   "cell_type": "code",
   "execution_count": null,
   "id": "83b823f8-38d6-44ac-b8cd-d0253830195f",
   "metadata": {},
   "outputs": [],
   "source": [
    "temp_dir.cleanup()"
   ]
  }
 ],
 "metadata": {
  "kernelspec": {
   "display_name": "Python 3 (ipykernel)",
   "language": "python",
   "name": "python3"
  },
  "language_info": {
   "codemirror_mode": {
    "name": "ipython",
    "version": 3
   },
   "file_extension": ".py",
   "mimetype": "text/x-python",
   "name": "python",
   "nbconvert_exporter": "python",
   "pygments_lexer": "ipython3",
   "version": "3.11.7"
  }
 },
 "nbformat": 4,
 "nbformat_minor": 5
}
