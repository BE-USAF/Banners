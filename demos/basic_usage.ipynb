{
 "cells": [
  {
   "cell_type": "code",
   "execution_count": 4,
   "id": "36c303ef-99ab-46a6-aa4a-5a5d8049fb99",
   "metadata": {},
   "outputs": [],
   "source": [
    "from banners import LocalBanner\n",
    "\n",
    "def callback_func(d: dict):\n",
    "    print(\"IN CALLBACK\", d)\n",
    "\n",
    "banner = LocalBanner(watch_rate=1)\n"
   ]
  },
  {
   "cell_type": "code",
   "execution_count": 5,
   "id": "1d94a3b7-f825-46d8-93e7-1e919714c7d3",
   "metadata": {},
   "outputs": [
    {
     "name": "stdout",
     "output_type": "stream",
     "text": [
      "IN CALLBACK {'test': 'value', 'topic': 'test'}\n",
      "IN CALLBACK {'test': 'value', 'topic': 'test'}\n"
     ]
    }
   ],
   "source": [
    "banner.watch(\"test\", callback_func)"
   ]
  },
  {
   "cell_type": "code",
   "execution_count": 8,
   "id": "28e63c89-16c1-45bb-a908-c31d7c4f86a4",
   "metadata": {},
   "outputs": [],
   "source": [
    "banner.wave(\"test\", {\"test\": \"value\"})\n"
   ]
  },
  {
   "cell_type": "code",
   "execution_count": 7,
   "id": "72e527f4-88a3-426a-a3a0-1218c6c152d6",
   "metadata": {},
   "outputs": [],
   "source": [
    "banner.ignore(\"test\")\n"
   ]
  },
  {
   "cell_type": "code",
   "execution_count": 9,
   "id": "aed77efc-c30b-423e-b54e-f33a284a0c38",
   "metadata": {},
   "outputs": [],
   "source": [
    "banner.retire(\"test\", 0)"
   ]
  }
 ],
 "metadata": {
  "kernelspec": {
   "display_name": "Python 3 (ipykernel)",
   "language": "python",
   "name": "python3"
  },
  "language_info": {
   "codemirror_mode": {
    "name": "ipython",
    "version": 3
   },
   "file_extension": ".py",
   "mimetype": "text/x-python",
   "name": "python",
   "nbconvert_exporter": "python",
   "pygments_lexer": "ipython3",
   "version": "3.11.7"
  }
 },
 "nbformat": 4,
 "nbformat_minor": 5
}
