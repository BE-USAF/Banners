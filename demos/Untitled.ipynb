{
 "cells": [
  {
   "cell_type": "code",
   "execution_count": 1,
   "id": "de7c9a4a-e000-438c-bf78-9e2ff6430f1f",
   "metadata": {},
   "outputs": [
    {
     "name": "stdout",
     "output_type": "stream",
     "text": [
      "Waiting for notifications on channel 'test'\n",
      "Got NOTIFY: 25822 test hello\n",
      "Payload:  hello\n",
      "Timeout\n",
      "Timeout\n",
      "Timeout\n",
      "Timeout\n"
     ]
    },
    {
     "ename": "KeyboardInterrupt",
     "evalue": "",
     "output_type": "error",
     "traceback": [
      "\u001b[0;31m---------------------------------------------------------------------------\u001b[0m",
      "\u001b[0;31mKeyboardInterrupt\u001b[0m                         Traceback (most recent call last)",
      "Cell \u001b[0;32mIn[1], line 20\u001b[0m\n\u001b[1;32m     18\u001b[0m \u001b[38;5;28mprint\u001b[39m(\u001b[38;5;124m\"\u001b[39m\u001b[38;5;124mWaiting for notifications on channel \u001b[39m\u001b[38;5;124m'\u001b[39m\u001b[38;5;124mtest\u001b[39m\u001b[38;5;124m'\u001b[39m\u001b[38;5;124m\"\u001b[39m)\n\u001b[1;32m     19\u001b[0m \u001b[38;5;28;01mwhile\u001b[39;00m \u001b[38;5;28;01mTrue\u001b[39;00m:\n\u001b[0;32m---> 20\u001b[0m     \u001b[38;5;28;01mif\u001b[39;00m \u001b[43mselect\u001b[49m\u001b[38;5;241;43m.\u001b[39;49m\u001b[43mselect\u001b[49m\u001b[43m(\u001b[49m\u001b[43m[\u001b[49m\u001b[43mconn\u001b[49m\u001b[43m]\u001b[49m\u001b[43m,\u001b[49m\u001b[43m[\u001b[49m\u001b[43m]\u001b[49m\u001b[43m,\u001b[49m\u001b[43m[\u001b[49m\u001b[43m]\u001b[49m\u001b[43m,\u001b[49m\u001b[38;5;241;43m5\u001b[39;49m\u001b[43m)\u001b[49m \u001b[38;5;241m==\u001b[39m ([],[],[]):\n\u001b[1;32m     21\u001b[0m         \u001b[38;5;28mprint\u001b[39m(\u001b[38;5;124m\"\u001b[39m\u001b[38;5;124mTimeout\u001b[39m\u001b[38;5;124m\"\u001b[39m)\n\u001b[1;32m     22\u001b[0m     \u001b[38;5;28;01melse\u001b[39;00m:\n",
      "\u001b[0;31mKeyboardInterrupt\u001b[0m: "
     ]
    }
   ],
   "source": [
    "import select\n",
    "import psycopg2\n",
    "import psycopg2.extensions\n",
    "\n",
    "# SQL_QUEUE_POSTGRES_HOSTNAME=jhub-postgresql\n",
    "# SQL_QUEUE_POSTGRES_PASSWORD=postgres\n",
    "# SQL_QUEUE_POSTGRES_PORT=5432\n",
    "# SQL_QUEUE_POSTGRES_USER=postgres\n",
    "# SQL_QUEUE_POSTGRES_DATABASE=postgres\n",
    "\n",
    "\n",
    "conn = psycopg2.connect(dbname=\"postgres\", user=\"postgres\", password=\"postgres\", host=\"jhub-postgresql\")\n",
    "conn.set_isolation_level(psycopg2.extensions.ISOLATION_LEVEL_AUTOCOMMIT)\n",
    "\n",
    "curs = conn.cursor()\n",
    "curs.execute(\"LISTEN test;\")\n",
    "\n",
    "print(\"Waiting for notifications on channel 'test'\")\n",
    "while True:\n",
    "    if select.select([conn],[],[],5) == ([],[],[]):\n",
    "        print(\"Timeout\")\n",
    "    else:\n",
    "        conn.poll()\n",
    "        while conn.notifies:\n",
    "            notify = conn.notifies.pop(0)\n",
    "            print(\"Got NOTIFY:\", notify.pid, notify.channel, notify.payload)\n",
    "            print(\"Payload: \", notify.payload)"
   ]
  },
  {
   "cell_type": "code",
   "execution_count": null,
   "id": "8e6139c5-316d-4b74-b7e2-c09a7df7968c",
   "metadata": {},
   "outputs": [],
   "source": [
    "conn = psycopg2.connect(dbname=\"postgres\", user=\"postgres\", password=\"postgres\", host=\"jhub-postgresql\")\n",
    "conn.set_isolation_level(psycopg2.extensions.ISOLATION_LEVEL_AUTOCOMMIT)\n",
    "\n",
    "curs = conn.cursor()\n",
    "curs.execute(\"NOTIFY test, 'hello';\")"
   ]
  }
 ],
 "metadata": {
  "kernelspec": {
   "display_name": "Python 3 (ipykernel)",
   "language": "python",
   "name": "python3"
  },
  "language_info": {
   "codemirror_mode": {
    "name": "ipython",
    "version": 3
   },
   "file_extension": ".py",
   "mimetype": "text/x-python",
   "name": "python",
   "nbconvert_exporter": "python",
   "pygments_lexer": "ipython3",
   "version": "3.11.7"
  }
 },
 "nbformat": 4,
 "nbformat_minor": 5
}
